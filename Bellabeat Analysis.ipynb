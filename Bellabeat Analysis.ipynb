{
 "cells": [
  {
   "cell_type": "markdown",
   "id": "5789072f-a647-4594-90e0-e8ab7af1d142",
   "metadata": {},
   "source": [
    "<div style=\"text-align: center; font-size: 32px;\">\n",
    "  *** THIS IS A WORK IN PROCESS ***\n",
    "</div>"
   ]
  },
  {
   "cell_type": "markdown",
   "id": "ce847ba5-f28a-4355-9586-7f7316be7e85",
   "metadata": {},
   "source": [
    "# Smart Device Usage Analysis"
   ]
  },
  {
   "cell_type": "code",
   "execution_count": 1,
   "id": "7d614a61-432b-471a-a88d-83e41953a81c",
   "metadata": {},
   "outputs": [
    {
     "data": {
      "text/html": [
       "<style>.container { width:90% !important; } </style>"
      ],
      "text/plain": [
       "<IPython.core.display.HTML object>"
      ]
     },
     "metadata": {},
     "output_type": "display_data"
    }
   ],
   "source": [
    "from IPython.display import display, HTML\n",
    "\n",
    "display(HTML(\"<style>.container { width:90% !important; } </style>\"))"
   ]
  },
  {
   "cell_type": "markdown",
   "id": "7265de3c-42bb-4f83-a279-1b66bc7acad7",
   "metadata": {
    "jp-MarkdownHeadingCollapsed": true
   },
   "source": [
    "## Table of Contents"
   ]
  },
  {
   "cell_type": "markdown",
   "id": "730e25d9-eebe-4185-a32c-f2d8b206d1ea",
   "metadata": {},
   "source": [
    "## Introduction"
   ]
  },
  {
   "cell_type": "markdown",
   "id": "e72e3212-4a19-48df-a4c6-9f878f63a653",
   "metadata": {},
   "source": [
    "Bellabeat is a high-tech manufacturer of health-focused products for women. Since its founding, Bellabeat has experienced rapid growth and has the potential to become a major player in the global smart device market. While our current marketing strategy primarily focuses on digital channels, we also invest on a smaller scale in traditional media.\n",
    "\n",
    "The Chief Creative Officer believes that analyzing consumer data could reveal new growth opportunities. The Marketing Analytics Team has been tasked with analyzing smart device data to gain insights into how consumers are using it. These insights will then be used to inform and refine future marketing strategies.\n",
    "  <br>\n",
    "  <br>\n",
    "\n",
    "<div style=\"text-align: center;\">\n",
    "  <div style=\"display: inline-block; border: 1px solid; padding: 10px;\">\n",
    "    <strong><em>Business Task:</em></strong><br>\n",
    "    <em>Analyze smart device usage data to understand consumer behavior, uncover opportunities for growth, and guide marketing strategies.</em>\n",
    "  </div>\n",
    "</div>\n",
    "\n",
    "  <br>\n",
    "  <br>\n",
    "For this analysis, we are using publicly available data from Fitbit Fitness Trackers. The dataset includes daily metrics (such as steps, distance, activity intensities, calories burned, and sleep time) as well as hourly data (calories burned, heart rate, and steps), spanning from April 11, 2016, to May 12, 2016. The complete dataset contains 18 CSV files, of which 8 were utilized in this analysis."
   ]
  },
  {
   "cell_type": "markdown",
   "id": "06a3f59b-8115-4b5d-8715-791b839aefb0",
   "metadata": {},
   "source": [
    "## Initial Data Exploration"
   ]
  },
  {
   "cell_type": "code",
   "execution_count": 2,
   "id": "ee505c72-a68e-411b-ba32-bbff5e8d4256",
   "metadata": {},
   "outputs": [],
   "source": [
    "import pandas as pd\n",
    "from sqlalchemy import create_engine\n",
    "from sqlalchemy import inspect\n",
    "\n",
    "import seaborn as sns\n",
    "import matplotlib.pyplot as plt\n",
    "\n",
    "import glob\n",
    "import os"
   ]
  },
  {
   "cell_type": "code",
   "execution_count": 3,
   "id": "3c217110-051d-48bc-8767-b0fffb24242e",
   "metadata": {},
   "outputs": [],
   "source": [
    "# Load CSV files into the SQLite database\n",
    "\n",
    "engine = create_engine('sqlite:///:memory:')\n",
    "\n",
    "data_path = 'data/'\n",
    "csv_files = glob.glob(f\"{data_path}/*.csv\")\n",
    "\n",
    "\n",
    "for csv_file in csv_files:\n",
    "    df = pd.read_csv(csv_file)\n",
    "    file_name = os.path.basename(csv_file)\n",
    "    table_name = file_name.split('_')[0]\n",
    "    df.to_sql(table_name, engine, index=False, if_exists='replace')"
   ]
  },
  {
   "cell_type": "code",
   "execution_count": 4,
   "id": "efc6e131-8a57-4203-b408-244dfe189b15",
   "metadata": {
    "scrolled": true
   },
   "outputs": [
    {
     "name": "stdout",
     "output_type": "stream",
     "text": [
      "['dailyActivity', 'dailyCalories', 'dailyIntensities', 'dailySteps', 'heartrate', 'hourlyCalories', 'hourlyIntensities', 'hourlySteps', 'minuteCaloriesNarrow', 'minuteCaloriesWide', 'minuteIntensitiesNarrow', 'minuteIntensitiesWide', 'minuteMETsNarrow', 'minuteSleep', 'minuteStepsNarrow', 'minuteStepsWide', 'sleepDay', 'weightLogInfo']\n",
      "18\n"
     ]
    }
   ],
   "source": [
    "inspector = inspect(engine)\n",
    "\n",
    "# Get the names of all tables in the database\n",
    "table_names = inspector.get_table_names()\n",
    "\n",
    "print(table_names)\n",
    "print(len(table_names))"
   ]
  },
  {
   "cell_type": "markdown",
   "id": "a9ec6c2f-0fdc-4271-95f8-97b75f514699",
   "metadata": {},
   "source": [
    "We have 18 tables. Let's examine their columns and data types to better understand the available data and whether or not we need to update data types for the relevant analyses. We will exclude the tables in wide format and the tables that show the data by the minute."
   ]
  },
  {
   "cell_type": "code",
   "execution_count": 5,
   "id": "fa3b1027-ea9f-4f16-9f02-dae013a71777",
   "metadata": {},
   "outputs": [
    {
     "data": {
      "text/plain": [
       "['dailyActivity',\n",
       " 'dailyCalories',\n",
       " 'dailyIntensities',\n",
       " 'dailySteps',\n",
       " 'heartrate',\n",
       " 'hourlyCalories',\n",
       " 'hourlyIntensities',\n",
       " 'hourlySteps',\n",
       " 'sleepDay',\n",
       " 'weightLogInfo']"
      ]
     },
     "execution_count": 5,
     "metadata": {},
     "output_type": "execute_result"
    }
   ],
   "source": [
    "# Including only the tables that do not have 'wide' in their name\n",
    "relevant_tables = [table_name for table_name in table_names if 'wide' not in table_name.lower()]\n",
    "relevant_tables = [table_name for table_name in relevant_tables if 'minute' not in table_name.lower()]\n",
    "relevant_tables"
   ]
  },
  {
   "cell_type": "code",
   "execution_count": 6,
   "id": "e5b59a79-f10e-4afd-bd8d-09d45c7320b2",
   "metadata": {},
   "outputs": [
    {
     "name": "stdout",
     "output_type": "stream",
     "text": [
      "Table: dailyActivity\n",
      "Id --> BIGINT\n",
      "ActivityDate --> TEXT\n",
      "TotalSteps --> BIGINT\n",
      "TotalDistance --> FLOAT\n",
      "TrackerDistance --> FLOAT\n",
      "LoggedActivitiesDistance --> FLOAT\n",
      "VeryActiveDistance --> FLOAT\n",
      "ModeratelyActiveDistance --> FLOAT\n",
      "LightActiveDistance --> FLOAT\n",
      "SedentaryActiveDistance --> FLOAT\n",
      "VeryActiveMinutes --> BIGINT\n",
      "FairlyActiveMinutes --> BIGINT\n",
      "LightlyActiveMinutes --> BIGINT\n",
      "SedentaryMinutes --> BIGINT\n",
      "Calories --> BIGINT\n",
      "\n",
      "\n",
      "Table: dailyCalories\n",
      "Id --> BIGINT\n",
      "ActivityDay --> TEXT\n",
      "Calories --> BIGINT\n",
      "\n",
      "\n",
      "Table: dailyIntensities\n",
      "Id --> BIGINT\n",
      "ActivityDay --> TEXT\n",
      "SedentaryMinutes --> BIGINT\n",
      "LightlyActiveMinutes --> BIGINT\n",
      "FairlyActiveMinutes --> BIGINT\n",
      "VeryActiveMinutes --> BIGINT\n",
      "SedentaryActiveDistance --> FLOAT\n",
      "LightActiveDistance --> FLOAT\n",
      "ModeratelyActiveDistance --> FLOAT\n",
      "VeryActiveDistance --> FLOAT\n",
      "\n",
      "\n",
      "Table: dailySteps\n",
      "Id --> BIGINT\n",
      "ActivityDay --> TEXT\n",
      "StepTotal --> BIGINT\n",
      "\n",
      "\n",
      "Table: heartrate\n",
      "Id --> BIGINT\n",
      "Time --> TEXT\n",
      "Value --> BIGINT\n",
      "\n",
      "\n",
      "Table: hourlyCalories\n",
      "Id --> BIGINT\n",
      "ActivityHour --> TEXT\n",
      "Calories --> BIGINT\n",
      "\n",
      "\n",
      "Table: hourlyIntensities\n",
      "Id --> BIGINT\n",
      "ActivityHour --> TEXT\n",
      "TotalIntensity --> BIGINT\n",
      "AverageIntensity --> FLOAT\n",
      "\n",
      "\n",
      "Table: hourlySteps\n",
      "Id --> BIGINT\n",
      "ActivityHour --> TEXT\n",
      "StepTotal --> BIGINT\n",
      "\n",
      "\n",
      "Table: sleepDay\n",
      "Id --> BIGINT\n",
      "SleepDay --> TEXT\n",
      "TotalSleepRecords --> BIGINT\n",
      "TotalMinutesAsleep --> BIGINT\n",
      "TotalTimeInBed --> BIGINT\n",
      "\n",
      "\n",
      "Table: weightLogInfo\n",
      "Id --> BIGINT\n",
      "Date --> TEXT\n",
      "WeightKg --> FLOAT\n",
      "WeightPounds --> FLOAT\n",
      "Fat --> FLOAT\n",
      "BMI --> FLOAT\n",
      "IsManualReport --> BOOLEAN\n",
      "LogId --> FLOAT\n",
      "\n",
      "\n"
     ]
    }
   ],
   "source": [
    "tables_info = {}\n",
    "\n",
    "for table_name in relevant_tables:\n",
    "    columns = inspector.get_columns(table_name)\n",
    "    column_info = {col['name']: col['type'] for col in columns}\n",
    "    tables_info[table_name] = column_info\n",
    "\n",
    "for table_name, columns in tables_info.items():\n",
    "    print(f'Table: {table_name}')\n",
    "    for col_name, col_type in columns.items():\n",
    "        print(f'{col_name} --> {col_type}')\n",
    "    print()\n",
    "    print()"
   ]
  },
  {
   "cell_type": "markdown",
   "id": "eb365ec1-53ef-4190-a947-1a39a7701919",
   "metadata": {},
   "source": [
    "We can see that the columns with dates, days, hours and times are `TEXT` type. We will cast them when necessary."
   ]
  },
  {
   "cell_type": "code",
   "execution_count": 7,
   "id": "5c4c81e1-2437-4356-a344-693e4210ded9",
   "metadata": {},
   "outputs": [
    {
     "name": "stdout",
     "output_type": "stream",
     "text": [
      "Table dailyActivity: 33 distinct users\n",
      "\n",
      "Table dailyCalories: 33 distinct users\n",
      "\n",
      "Table dailyIntensities: 33 distinct users\n",
      "\n",
      "Table dailySteps: 33 distinct users\n",
      "\n",
      "Table heartrate: 14 distinct users\n",
      "\n",
      "Table hourlyCalories: 33 distinct users\n",
      "\n",
      "Table hourlyIntensities: 33 distinct users\n",
      "\n",
      "Table hourlySteps: 33 distinct users\n",
      "\n",
      "Table sleepDay: 24 distinct users\n",
      "\n",
      "Table weightLogInfo: 8 distinct users\n",
      "\n"
     ]
    }
   ],
   "source": [
    "# Unique number of users in each table\n",
    "\n",
    "for table in relevant_tables:\n",
    "    query = f\"\"\"\n",
    "    SELECT COUNT(DISTINCT id) as id_cnt\n",
    "    FROM {table}\n",
    "    \"\"\"\n",
    "    \n",
    "    df = pd.read_sql_query(query, engine)\n",
    "    print(f'Table {table}: {df.iloc[0,0]} distinct users')\n",
    "    print()"
   ]
  },
  {
   "cell_type": "code",
   "execution_count": 29,
   "id": "3a362a43-9b99-4159-83af-c1bce9b7a66c",
   "metadata": {},
   "outputs": [
    {
     "data": {
      "text/html": [
       "<div>\n",
       "<style scoped>\n",
       "    .dataframe tbody tr th:only-of-type {\n",
       "        vertical-align: middle;\n",
       "    }\n",
       "\n",
       "    .dataframe tbody tr th {\n",
       "        vertical-align: top;\n",
       "    }\n",
       "\n",
       "    .dataframe thead th {\n",
       "        text-align: right;\n",
       "    }\n",
       "</style>\n",
       "<table border=\"1\" class=\"dataframe\">\n",
       "  <thead>\n",
       "    <tr style=\"text-align: right;\">\n",
       "      <th></th>\n",
       "      <th>ActivityDate</th>\n",
       "      <th>formatted_date</th>\n",
       "    </tr>\n",
       "  </thead>\n",
       "  <tbody>\n",
       "    <tr>\n",
       "      <th>0</th>\n",
       "      <td>12/04/2016</td>\n",
       "      <td>None</td>\n",
       "    </tr>\n",
       "    <tr>\n",
       "      <th>1</th>\n",
       "      <td>13/04/2016</td>\n",
       "      <td>None</td>\n",
       "    </tr>\n",
       "    <tr>\n",
       "      <th>2</th>\n",
       "      <td>14/04/2016</td>\n",
       "      <td>None</td>\n",
       "    </tr>\n",
       "    <tr>\n",
       "      <th>3</th>\n",
       "      <td>15/04/2016</td>\n",
       "      <td>None</td>\n",
       "    </tr>\n",
       "    <tr>\n",
       "      <th>4</th>\n",
       "      <td>16/04/2016</td>\n",
       "      <td>None</td>\n",
       "    </tr>\n",
       "    <tr>\n",
       "      <th>...</th>\n",
       "      <td>...</td>\n",
       "      <td>...</td>\n",
       "    </tr>\n",
       "    <tr>\n",
       "      <th>935</th>\n",
       "      <td>08/05/2016</td>\n",
       "      <td>None</td>\n",
       "    </tr>\n",
       "    <tr>\n",
       "      <th>936</th>\n",
       "      <td>09/05/2016</td>\n",
       "      <td>None</td>\n",
       "    </tr>\n",
       "    <tr>\n",
       "      <th>937</th>\n",
       "      <td>10/05/2016</td>\n",
       "      <td>None</td>\n",
       "    </tr>\n",
       "    <tr>\n",
       "      <th>938</th>\n",
       "      <td>11/05/2016</td>\n",
       "      <td>None</td>\n",
       "    </tr>\n",
       "    <tr>\n",
       "      <th>939</th>\n",
       "      <td>12/05/2016</td>\n",
       "      <td>None</td>\n",
       "    </tr>\n",
       "  </tbody>\n",
       "</table>\n",
       "<p>940 rows × 2 columns</p>\n",
       "</div>"
      ],
      "text/plain": [
       "    ActivityDate formatted_date\n",
       "0     12/04/2016           None\n",
       "1     13/04/2016           None\n",
       "2     14/04/2016           None\n",
       "3     15/04/2016           None\n",
       "4     16/04/2016           None\n",
       "..           ...            ...\n",
       "935   08/05/2016           None\n",
       "936   09/05/2016           None\n",
       "937   10/05/2016           None\n",
       "938   11/05/2016           None\n",
       "939   12/05/2016           None\n",
       "\n",
       "[940 rows x 2 columns]"
      ]
     },
     "execution_count": 29,
     "metadata": {},
     "output_type": "execute_result"
    }
   ],
   "source": [
    "query = \"\"\"\n",
    "SELECT\n",
    "    activityDate,\n",
    "    CASE WHEN activityDate LIKE '%d/%m/%Y' THEN strftime('%Y-%m-%d', activityDate)\n",
    "        ELSE NULL END AS formatted_date\n",
    "FROM dailyActivity;\n",
    "\"\"\"\n",
    "\n",
    "df = pd.read_sql_query(query, engine)\n",
    "df"
   ]
  },
  {
   "cell_type": "code",
   "execution_count": 8,
   "id": "db72916c-6c4f-4178-854b-88409f0bcc12",
   "metadata": {},
   "outputs": [
    {
     "name": "stdout",
     "output_type": "stream",
     "text": [
      "dailyActivity\n",
      "     min_date    max_date\n",
      "0  01/05/2016  30/04/2016\n",
      "\n",
      "dailyCalories\n",
      "     min_date    max_date\n",
      "0  2016-04-12  2016-05-12\n",
      "\n",
      "dailyIntensities\n",
      "     min_date    max_date\n",
      "0  2016-04-12  2016-05-12\n",
      "\n",
      "dailySteps\n",
      "     min_date    max_date\n",
      "0  2016-04-12  2016-05-12\n",
      "\n",
      "heartrate\n",
      "                min_date             max_date\n",
      "0  4/12/2016 10:00:00 AM  5/9/2016 9:59:59 PM\n",
      "\n",
      "hourlyCalories\n",
      "              min_date             max_date\n",
      "0  2016-04-12 00:00:00  2016-05-12 15:00:00\n",
      "\n",
      "hourlyIntensities\n",
      "              min_date             max_date\n",
      "0  2016-04-12 00:00:00  2016-05-12 15:00:00\n",
      "\n",
      "hourlySteps\n",
      "              min_date             max_date\n",
      "0  2016-04-12 00:00:00  2016-05-12 15:00:00\n",
      "\n",
      "sleepDay\n",
      "              min_date             max_date\n",
      "0  2016-04-12 00:00:00  2016-05-12 00:00:00\n",
      "\n",
      "weightLogInfo\n",
      "              min_date             max_date\n",
      "0  2016-04-12 00:00:00  2016-05-12 00:00:00\n",
      "\n"
     ]
    }
   ],
   "source": [
    "# Checking date ranges for each table\n",
    "\n",
    "date_keywords = ['date', 'day', 'hour', 'time']\n",
    "\n",
    "for table in relevant_tables:\n",
    "    columns = inspector.get_columns(table)\n",
    "    for col in columns:\n",
    "        if any(keyword in col['name'].lower() for keyword in date_keywords):\n",
    "            col_name = col['name']\n",
    "            break\n",
    "\n",
    "    query = f\"\"\"\n",
    "    SELECT \n",
    "        MIN({col_name}) AS min_date,\n",
    "        MAX({col_name}) AS max_date\n",
    "    FROM {table}\n",
    "    \"\"\"\n",
    "\n",
    "    df = pd.read_sql_query(query, engine)\n",
    "    print(table)\n",
    "    print(df)\n",
    "    print()"
   ]
  },
  {
   "cell_type": "code",
   "execution_count": 19,
   "id": "5f42ca39-0b08-402d-b571-985a5eb42ce6",
   "metadata": {},
   "outputs": [
    {
     "data": {
      "image/png": "[encoded data removed]",
      "text/plain": [
       "<Figure size 1000x800 with 2 Axes>"
      ]
     },
     "metadata": {},
     "output_type": "display_data"
    }
   ],
   "source": [
    "query = \"\"\"\n",
    "SELECT \n",
    "    id as ID,\n",
    "    ActivityDay as date\n",
    "FROM\n",
    "    dailyCalories\n",
    "ORDER BY\n",
    "    2 DESC\n",
    "\"\"\"\n",
    "\n",
    "df = pd.read_sql_query(query, engine)\n",
    "\n",
    "# Get matrix of 1s and 0s for the usage of the device by user id\n",
    "dates_used = df.pivot_table(\n",
    "    index = 'date',\n",
    "    columns='ID',\n",
    "    aggfunc=len,\n",
    "    fill_value = 0\n",
    ")\n",
    "\n",
    "dates_used = dates_used.sort_index(ascending=False)\n",
    "\n",
    "# Adding total days used for the x-label\n",
    "sum_usage = dates_used.sum()\n",
    "x_labels = [f'{col}:  {sum_usage[col]}' for col in dates_used.columns]\n",
    "\n",
    "# Colors\n",
    "binary_palette = sns.color_palette(['#c8c8cc', '#2a369e']) \n",
    "\n",
    "# Plot heatmap\n",
    "plt.figure(figsize=(10, 8))\n",
    "ax = sns.heatmap(data=dates_used, linewidths=.5, cbar=True, cmap=binary_palette, cbar_kws={'ticks': [0, 1]})\n",
    "plt.title(\"Usage by date\")\n",
    "ax.set_xticklabels(x_labels)\n",
    "\n",
    "plt.show()"
   ]
  },
  {
   "cell_type": "markdown",
   "id": "1da678bb-7b1e-4fab-94fb-463579119522",
   "metadata": {},
   "source": [
    "Most users used their devices most days. However, there were users who used it less than 20 days and even one who used it only 4 days. For every user, the usage was continuous — once a user didn't use their device, they stopped using it instead of having gaps in the usage throughout the month."
   ]
  },
  {
   "cell_type": "markdown",
   "id": "57bc8bbd-b4b2-4fa7-9c56-18030de3724f",
   "metadata": {},
   "source": [
    "## Calories Function"
   ]
  },
  {
   "cell_type": "markdown",
   "id": "54b80bba-7af5-4541-8572-a94dbad9bf12",
   "metadata": {},
   "source": [
    "In this section we will explore the trends related to the calories burned, based on the data offerd by the devices. "
   ]
  },
  {
   "cell_type": "code",
   "execution_count": 10,
   "id": "9cdf8ed9-8771-4916-ab5d-79e31b541857",
   "metadata": {},
   "outputs": [
    {
     "data": {
      "image/png": "[encoded data removed]",
      "text/plain": [
       "<Figure size 640x480 with 1 Axes>"
      ]
     },
     "metadata": {},
     "output_type": "display_data"
    }
   ],
   "source": [
    "query = \"\"\"\n",
    "SELECT\n",
    "    Id\n",
    "    ,AVG(calories) as calories_avg\n",
    "FROM dailyActivity\n",
    "GROUP BY\n",
    "    1\n",
    "\"\"\"\n",
    "\n",
    "df = pd.read_sql_query(query, engine)\n",
    "df\n",
    "\n",
    "\n",
    "# Plot histograms of calories burned\n",
    "ax = sns.histplot(data=df['calories_avg'])\n",
    "\n",
    "ax.set_title('Distribution of Average Calories Burned')\n",
    "ax.set_xlabel('Avg Calories Burned')\n",
    "ax.set_ylabel('Count of IDs')\n",
    "\n",
    "plt.show()"
   ]
  },
  {
   "cell_type": "code",
   "execution_count": 11,
   "id": "60c85a7e-5c13-478c-a664-773af04ab77b",
   "metadata": {
    "scrolled": true
   },
   "outputs": [
    {
     "data": {
      "text/html": [
       "<div>\n",
       "<style scoped>\n",
       "    .dataframe tbody tr th:only-of-type {\n",
       "        vertical-align: middle;\n",
       "    }\n",
       "\n",
       "    .dataframe tbody tr th {\n",
       "        vertical-align: top;\n",
       "    }\n",
       "\n",
       "    .dataframe thead th {\n",
       "        text-align: right;\n",
       "    }\n",
       "</style>\n",
       "<table border=\"1\" class=\"dataframe\">\n",
       "  <thead>\n",
       "    <tr style=\"text-align: right;\">\n",
       "      <th></th>\n",
       "      <th>min_avg</th>\n",
       "      <th>max_avg</th>\n",
       "    </tr>\n",
       "  </thead>\n",
       "  <tbody>\n",
       "    <tr>\n",
       "      <th>0</th>\n",
       "      <td>1483.35</td>\n",
       "      <td>3436.58</td>\n",
       "    </tr>\n",
       "  </tbody>\n",
       "</table>\n",
       "</div>"
      ],
      "text/plain": [
       "   min_avg  max_avg\n",
       "0  1483.35  3436.58"
      ]
     },
     "execution_count": 11,
     "metadata": {},
     "output_type": "execute_result"
    }
   ],
   "source": [
    "query = \"\"\"\n",
    "WITH average_calories AS (\n",
    "SELECT\n",
    "    Id\n",
    "    ,AVG(calories) as calories_avg\n",
    "FROM dailyActivity\n",
    "GROUP BY\n",
    "    1\n",
    ")\n",
    "\n",
    "SELECT\n",
    "    ROUND(MIN(calories_avg), 2) AS min_avg\n",
    "    ,ROUND(MAX(calories_avg), 2) AS max_avg\n",
    "FROM\n",
    "    average_calories\n",
    "\"\"\"\n",
    "\n",
    "df = pd.read_sql_query(query, engine)\n",
    "df"
   ]
  },
  {
   "cell_type": "markdown",
   "id": "f8e8b64e-0248-4fbc-8c82-6603a03ae950",
   "metadata": {},
   "source": [
    "The average calories burned range roughly between 1500 and 3500 per user, with around 30 percent of the users burning between 1750 and 2000 calories. Let's examine the average calories burned per day of the week."
   ]
  },
  {
   "cell_type": "code",
   "execution_count": 12,
   "id": "d1638e1e-95b7-4cec-8e92-a85097d17a82",
   "metadata": {},
   "outputs": [
    {
     "data": {
      "text/html": [
       "<div>\n",
       "<style scoped>\n",
       "    .dataframe tbody tr th:only-of-type {\n",
       "        vertical-align: middle;\n",
       "    }\n",
       "\n",
       "    .dataframe tbody tr th {\n",
       "        vertical-align: top;\n",
       "    }\n",
       "\n",
       "    .dataframe thead th {\n",
       "        text-align: right;\n",
       "    }\n",
       "</style>\n",
       "<table border=\"1\" class=\"dataframe\">\n",
       "  <thead>\n",
       "    <tr style=\"text-align: right;\">\n",
       "      <th></th>\n",
       "      <th>dow</th>\n",
       "      <th>calories_avg</th>\n",
       "    </tr>\n",
       "  </thead>\n",
       "  <tbody>\n",
       "    <tr>\n",
       "      <th>0</th>\n",
       "      <td>None</td>\n",
       "      <td>2282.44366</td>\n",
       "    </tr>\n",
       "  </tbody>\n",
       "</table>\n",
       "</div>"
      ],
      "text/plain": [
       "    dow  calories_avg\n",
       "0  None    2282.44366"
      ]
     },
     "execution_count": 12,
     "metadata": {},
     "output_type": "execute_result"
    }
   ],
   "source": [
    "query = \"\"\"\n",
    "WITH avg_calories_user_dow AS (\n",
    "SELECT\n",
    "    Id\n",
    "    ,strftime('%w', activityDate) as dow\n",
    "    ,AVG(calories) AS calories_avg\n",
    "FROM dailyActivity\n",
    "GROUP BY\n",
    "    1, 2\n",
    ")\n",
    "\n",
    "SELECT\n",
    "    dow\n",
    "    ,AVG(calories_avg) AS calories_avg\n",
    "FROM avg_calories_user_dow\n",
    "GROUP BY\n",
    "    1\n",
    "\"\"\"\n",
    "\n",
    "df = pd.read_sql_query(query, engine)\n",
    "df"
   ]
  },
  {
   "cell_type": "code",
   "execution_count": 31,
   "id": "7cd1eca9-d8c1-4394-a232-26d4285efabe",
   "metadata": {},
   "outputs": [
    {
     "data": {
      "image/png": "[encoded data removed]",
      "text/plain": [
       "<Figure size 640x480 with 1 Axes>"
      ]
     },
     "metadata": {},
     "output_type": "display_data"
    }
   ],
   "source": [
    "query = \"\"\"\n",
    "SELECT\n",
    "    Id\n",
    "    ,strftime('%w', activityDay) as dow\n",
    "    ,AVG(calories) AS calories_avg\n",
    "FROM dailyCalories\n",
    "GROUP BY\n",
    "    1, 2\n",
    "\n",
    "\"\"\"\n",
    "\n",
    "df = pd.read_sql_query(query, engine)\n",
    "\n",
    "\n",
    "# Boxplot of average calories burned by day of the week\n",
    "ax = sns.boxplot(data=df, x='dow', y='calories_avg')\n",
    "\n",
    "ax.set_title('Distribution of Avg Calories by Day of the Week')\n",
    "ax.set_xlabel('Day of the Week')\n",
    "ax.set_ylabel('Average Calories Burned')\n",
    "\n",
    "ax.set_xticks(range(7))\n",
    "ax.set_xticklabels(['Sun', 'Mon', 'Tue', 'Wed', 'Thu', 'Fri', 'Sat'])\n",
    "\n",
    "plt.show()"
   ]
  },
  {
   "cell_type": "markdown",
   "id": "75645b69-c83d-4dd5-9f1e-8e82d3d24f64",
   "metadata": {},
   "source": [
    "The average for each day of the week seem to be similar, with Thursday presenting the lower average. However, the average for each day of the week is above 2000, which is around the average of calories burned for moderately active people based on <a href='https://health.clevelandclinic.org/calories-burned-in-a-day]'>Clinic of Cleveland</a>.\n",
    "\n",
    "Let's also look at the average calories burned by time of the day."
   ]
  },
  {
   "cell_type": "code",
   "execution_count": 34,
   "id": "5a546c78-a386-4f84-ac77-6147797a7173",
   "metadata": {},
   "outputs": [
    {
     "data": {
      "text/html": [
       "<div>\n",
       "<style scoped>\n",
       "    .dataframe tbody tr th:only-of-type {\n",
       "        vertical-align: middle;\n",
       "    }\n",
       "\n",
       "    .dataframe tbody tr th {\n",
       "        vertical-align: top;\n",
       "    }\n",
       "\n",
       "    .dataframe thead th {\n",
       "        text-align: right;\n",
       "    }\n",
       "</style>\n",
       "<table border=\"1\" class=\"dataframe\">\n",
       "  <thead>\n",
       "    <tr style=\"text-align: right;\">\n",
       "      <th></th>\n",
       "      <th>hour</th>\n",
       "      <th>calories_avg</th>\n",
       "    </tr>\n",
       "  </thead>\n",
       "  <tbody>\n",
       "    <tr>\n",
       "      <th>0</th>\n",
       "      <td>None</td>\n",
       "      <td>2282.44366</td>\n",
       "    </tr>\n",
       "  </tbody>\n",
       "</table>\n",
       "</div>"
      ],
      "text/plain": [
       "   hour  calories_avg\n",
       "0  None    2282.44366"
      ]
     },
     "execution_count": 34,
     "metadata": {},
     "output_type": "execute_result"
    }
   ],
   "source": [
    "query = \"\"\"\n",
    "WITH avg_calories_user_hour AS (\n",
    "SELECT\n",
    "    Id\n",
    "    ,strftime('%h', activityDay) as hour\n",
    "    ,AVG(calories) AS calories_avg\n",
    "FROM dailyCalories\n",
    "GROUP BY\n",
    "    1, 2\n",
    ")\n",
    "\n",
    "SELECT\n",
    "    hour\n",
    "    ,AVG(calories_avg) AS calories_avg\n",
    "FROM avg_calories_user_hour\n",
    "GROUP BY\n",
    "    1\n",
    "\"\"\"\n",
    "\n",
    "df = pd.read_sql_query(query, engine)\n",
    "df"
   ]
  },
  {
   "cell_type": "code",
   "execution_count": 35,
   "id": "8284bc59-a2e0-4148-a0a3-b940666a92dc",
   "metadata": {},
   "outputs": [
    {
     "data": {
      "text/html": [
       "<div>\n",
       "<style scoped>\n",
       "    .dataframe tbody tr th:only-of-type {\n",
       "        vertical-align: middle;\n",
       "    }\n",
       "\n",
       "    .dataframe tbody tr th {\n",
       "        vertical-align: top;\n",
       "    }\n",
       "\n",
       "    .dataframe thead th {\n",
       "        text-align: right;\n",
       "    }\n",
       "</style>\n",
       "<table border=\"1\" class=\"dataframe\">\n",
       "  <thead>\n",
       "    <tr style=\"text-align: right;\">\n",
       "      <th></th>\n",
       "      <th>Id</th>\n",
       "      <th>ActivityDate</th>\n",
       "      <th>TotalSteps</th>\n",
       "      <th>TotalDistance</th>\n",
       "      <th>TrackerDistance</th>\n",
       "      <th>LoggedActivitiesDistance</th>\n",
       "      <th>VeryActiveDistance</th>\n",
       "      <th>ModeratelyActiveDistance</th>\n",
       "      <th>LightActiveDistance</th>\n",
       "      <th>SedentaryActiveDistance</th>\n",
       "      <th>VeryActiveMinutes</th>\n",
       "      <th>FairlyActiveMinutes</th>\n",
       "      <th>LightlyActiveMinutes</th>\n",
       "      <th>SedentaryMinutes</th>\n",
       "      <th>Calories</th>\n",
       "    </tr>\n",
       "  </thead>\n",
       "  <tbody>\n",
       "    <tr>\n",
       "      <th>0</th>\n",
       "      <td>1503960366</td>\n",
       "      <td>12/04/2016</td>\n",
       "      <td>13162</td>\n",
       "      <td>8.5</td>\n",
       "      <td>8.5</td>\n",
       "      <td>0.0</td>\n",
       "      <td>1.88</td>\n",
       "      <td>0.55</td>\n",
       "      <td>6.06</td>\n",
       "      <td>0.0</td>\n",
       "      <td>25</td>\n",
       "      <td>13</td>\n",
       "      <td>328</td>\n",
       "      <td>728</td>\n",
       "      <td>1985</td>\n",
       "    </tr>\n",
       "  </tbody>\n",
       "</table>\n",
       "</div>"
      ],
      "text/plain": [
       "           Id ActivityDate  TotalSteps  TotalDistance  TrackerDistance  \\\n",
       "0  1503960366   12/04/2016       13162            8.5              8.5   \n",
       "\n",
       "   LoggedActivitiesDistance  VeryActiveDistance  ModeratelyActiveDistance  \\\n",
       "0                       0.0                1.88                      0.55   \n",
       "\n",
       "   LightActiveDistance  SedentaryActiveDistance  VeryActiveMinutes  \\\n",
       "0                 6.06                      0.0                 25   \n",
       "\n",
       "   FairlyActiveMinutes  LightlyActiveMinutes  SedentaryMinutes  Calories  \n",
       "0                   13                   328               728      1985  "
      ]
     },
     "execution_count": 35,
     "metadata": {},
     "output_type": "execute_result"
    }
   ],
   "source": [
    "query = \"\"\"\n",
    "SELECT\n",
    "    *\n",
    "FROM dailyActivity\n",
    "LIMIT 1\n",
    "\"\"\"\n",
    "\n",
    "df = pd.read_sql_query(query, engine)\n",
    "df"
   ]
  },
  {
   "cell_type": "markdown",
   "id": "4ad42371-2a98-436b-8cc0-51d649dfb20c",
   "metadata": {},
   "source": [
    "'dailyActivity',\n",
    " 'dailyCalories',\n",
    " 'dailyIntensities',\n",
    " 'dailySteps',\n",
    " 'heartrate',\n",
    " 'hourlyCalories',\n",
    " 'hourlyIntensities',\n",
    " 'hourlySteps',\n",
    " 'sleepDay',\n",
    " 'weightLogInfo']"
   ]
  },
  {
   "cell_type": "code",
   "execution_count": null,
   "id": "69dab939-6946-4467-bbaa-325f9621c4d9",
   "metadata": {},
   "outputs": [],
   "source": []
  }
 ],
 "metadata": {
  "kernelspec": {
   "display_name": "Python 3 (ipykernel)",
   "language": "python",
   "name": "python3"
  },
  "language_info": {
   "codemirror_mode": {
    "name": "ipython",
    "version": 3
   },
   "file_extension": ".py",
   "mimetype": "text/x-python",
   "name": "python",
   "nbconvert_exporter": "python",
   "pygments_lexer": "ipython3",
   "version": "3.10.11"
  }
 },
 "nbformat": 4,
 "nbformat_minor": 5
}
